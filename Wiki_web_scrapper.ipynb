{
 "cells": [
  {
   "cell_type": "code",
   "execution_count": 49,
   "metadata": {},
   "outputs": [],
   "source": [
    "from bs4 import BeautifulSoup\n",
    "import requests\n",
    "import re\n",
    "import operator\n",
    "import json\n",
    "from tabulate import tabulate\n",
    "import sys\n",
    "from stop_words import get_stop_words"
   ]
  },
  {
   "cell_type": "code",
   "execution_count": 50,
   "metadata": {},
   "outputs": [],
   "source": [
    "# get the words\n",
    "\n",
    "def getwordlist(url):\n",
    "    word_list = []\n",
    "    source_code = requests.get(url)\n",
    "    plain_text = source_code.text\n",
    "    soup = BeautifulSoup(plain_text, 'lxml')\n",
    "    for text in soup.find_all('p'):\n",
    "        if text.text is None:\n",
    "            continue\n",
    "        content = text.text\n",
    "        words = content.lower().split()\n",
    "        \n",
    "        for word in words:\n",
    "            cleaned_word = clean_word(word)\n",
    "            if len(cleaned_word) > 0:\n",
    "                word_list.append(cleaned_word)\n",
    "    \n",
    "    return word_list\n",
    "    \n",
    "# create frequency\n",
    "def creatFrequencytable(word_list):\n",
    "    word_count = {}\n",
    "    for word in word_list:\n",
    "        if word in word_count:\n",
    "            word_count[word] += 1\n",
    "        else:\n",
    "            word_count[word] = 1\n",
    "    return word_count\n",
    "\n",
    "    "
   ]
  },
  {
   "cell_type": "code",
   "execution_count": 51,
   "metadata": {},
   "outputs": [],
   "source": [
    "# Clean text\n",
    "def clean_word(word):\n",
    "    cleaned_word = re.sub('[^A-Za-z]+', '', word)\n",
    "    return cleaned_word\n",
    "def remove_stopwords(frequency_list):\n",
    "    stop_words = get_stop_words('en')\n",
    "    \n",
    "    temp_list = []\n",
    "    for key,value in frequency_list:\n",
    "        if key not in stop_words:\n",
    "            temp_list.append([key, value])\n",
    "    return temp_list\n",
    "    "
   ]
  },
  {
   "cell_type": "code",
   "execution_count": 52,
   "metadata": {},
   "outputs": [],
   "source": [
    "string_query = 'DataScience'\n",
    "search_mode = True"
   ]
  },
  {
   "cell_type": "code",
   "execution_count": 53,
   "metadata": {},
   "outputs": [
    {
     "name": "stdout",
     "output_type": "stream",
     "text": [
      "| Word          |   Frequency |   Frequency Percentage |\n",
      "|---------------+-------------+------------------------|\n",
      "| data          |         103 |                 9.5194 |\n",
      "| science       |          71 |                 6.5619 |\n",
      "| term          |          15 |                 1.3863 |\n",
      "| statistics    |          14 |                 1.2939 |\n",
      "| statistical   |          11 |                 1.0166 |\n",
      "| big           |           9 |                 0.8318 |\n",
      "| field         |           8 |                 0.7394 |\n",
      "| many          |           8 |                 0.7394 |\n",
      "| now           |           8 |                 0.7394 |\n",
      "| analytics     |           8 |                 0.7394 |\n",
      "| scientists    |           8 |                 0.7394 |\n",
      "| methods       |           7 |                 0.647  |\n",
      "| analysis      |           7 |                 0.647  |\n",
      "| business      |           7 |                 0.647  |\n",
      "| journal       |           7 |                 0.647  |\n",
      "| computer      |           6 |                 0.5545 |\n",
      "| used          |           6 |                 0.5545 |\n",
      "| international |           6 |                 0.5545 |\n",
      "| conference    |           6 |                 0.5545 |\n",
      "| learning      |           5 |                 0.4621 |\n"
     ]
    }
   ],
   "source": [
    "wikipedia_api_link = \"https://en.wikipedia.org/w/api.php?format=json&action=query&list=search&srsearch=\"\n",
    "wikipedia_link = \"https://en.wikipedia.org/wiki/\"\n",
    "url = wikipedia_api_link + string_query\n",
    "\n",
    "# handle Http request in try block\n",
    "try:\n",
    "    response = requests.get(url)\n",
    "    data = json.loads(response.content.decode('utf-8'))\n",
    "    wikipedia_page_tag = data['query']['search'][0]['title']\n",
    "    url = wikipedia_link + wikipedia_page_tag\n",
    "    page_word_list = getwordlist(url)\n",
    "    page_word_count = creatFrequencytable(page_word_list)\n",
    "    sorted_word_frequency_list = sorted(page_word_count.items(), key=operator.itemgetter(1), reverse=True)\n",
    "    if(search_mode):\n",
    "        sorted_word_frequency_list = remove_stopwords(sorted_word_frequency_list)\n",
    "    \n",
    "    total_words_sum = 0\n",
    "    for key, value in sorted_word_frequency_list:\n",
    "        total_words_sum = total_words_sum + value\n",
    "        \n",
    "    if len(sorted_word_frequency_list) > 20:\n",
    "        sorted_word_frequency_list = sorted_word_frequency_list[:20]\n",
    "        \n",
    "    final_list = []\n",
    "    for key, value in sorted_word_frequency_list:\n",
    "        percentage_value = float(value * 100) / total_words_sum\n",
    "        final_list.append([key, value, round(percentage_value, 4)])\n",
    "        \n",
    "    print_headers = ['Word', 'Frequency', 'Frequency Percentage']\n",
    "    print(tabulate(final_list, headers=print_headers, tablefmt='orgtbl'))\n",
    "    \n",
    "except requests.exceptions.Timeout:\n",
    "    print(\"Server Didn't respond, Please try again later\")"
   ]
  },
  {
   "cell_type": "code",
   "execution_count": null,
   "metadata": {},
   "outputs": [],
   "source": []
  },
  {
   "cell_type": "code",
   "execution_count": null,
   "metadata": {},
   "outputs": [],
   "source": []
  }
 ],
 "metadata": {
  "kernelspec": {
   "display_name": "Python 3",
   "language": "python",
   "name": "python3"
  },
  "language_info": {
   "codemirror_mode": {
    "name": "ipython",
    "version": 3
   },
   "file_extension": ".py",
   "mimetype": "text/x-python",
   "name": "python",
   "nbconvert_exporter": "python",
   "pygments_lexer": "ipython3",
   "version": "3.7.1"
  }
 },
 "nbformat": 4,
 "nbformat_minor": 2
}
